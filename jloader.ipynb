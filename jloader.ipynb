{
 "cells": [
  {
   "cell_type": "code",
   "execution_count": null,
   "id": "61def458",
   "metadata": {},
   "outputs": [],
   "source": [
    "from jloader import download, encode"
   ]
  },
  {
   "cell_type": "code",
   "execution_count": null,
   "id": "29b24937",
   "metadata": {},
   "outputs": [],
   "source": [
    "#папки создаются автоматически рекурсивно\n",
    "#часть ссылок для локального дублирования\n",
    "urls = ['datasets/ds_bert/vocab.txt',\n",
    "        'datasets/ds_bert/bert_config.json',\n",
    "        'datasets/ds_bert/rubert_model.bin',\n",
    "        'datasets/toxic_comments.csv',\n",
    "        'subsets/toxic_comments/bert.csv',\n",
    "        'subsets/toxic_comments/f1_choice.csv']\n",
    "\n",
    "#цикл функцией по ссылкам\n",
    "[download(f'http://sample.ru/{url}', f'./{url}') for url in urls]\n",
    "\n",
    "#без цикла - откуда - куда\n",
    "download('http://sample.ru/subsets/toxic_comments/f1_selected.csv', './subsets/toxic_comments/f1_selected.csv')\n",
    "pass"
   ]
  },
  {
   "cell_type": "code",
   "execution_count": null,
   "id": "f0c793ce",
   "metadata": {},
   "outputs": [],
   "source": [
    "#декодирование ссылок\n",
    "url = encode('https://cloud-api.yandex.net/v1/disk/public/resources/download?',\n",
    "             'https://disk.yandex.ru/d/sF-erJf2ER0PGw')\n",
    "\n",
    "download(url, './datasets/data.zip')"
   ]
  }
 ],
 "metadata": {
  "kernelspec": {
   "display_name": "Python 3 (ipykernel)",
   "language": "python",
   "name": "python3"
  },
  "language_info": {
   "codemirror_mode": {
    "name": "ipython",
    "version": 3
   },
   "file_extension": ".py",
   "mimetype": "text/x-python",
   "name": "python",
   "nbconvert_exporter": "python",
   "pygments_lexer": "ipython3",
   "version": "3.8.10"
  }
 },
 "nbformat": 4,
 "nbformat_minor": 5
}
