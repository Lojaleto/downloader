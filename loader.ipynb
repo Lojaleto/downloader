{
 "cells": [
  {
   "cell_type": "code",
   "execution_count": null,
   "id": "61def458",
   "metadata": {},
   "outputs": [],
   "source": [
    "import os\n",
    "\n",
    "from loader import download"
   ]
  },
  {
   "cell_type": "code",
   "execution_count": null,
   "id": "29b24937",
   "metadata": {},
   "outputs": [],
   "source": [
    "#создание папок\n",
    "if os.path.exists('./datasets/ds_bert') == False: os.makedirs('./datasets/ds_bert', exist_ok=True);\n",
    "if os.path.exists('./subsets/toxic_comments') == False: os.makedirs('./subsets/toxic_comments', exist_ok=True);\n",
    "\n",
    "#часть ссылок для локального дублирования\n",
    "urls = ['datasets/ds_bert/vocab.txt',\n",
    "        'datasets/ds_bert/bert_config.json',\n",
    "        'datasets/ds_bert/rubert_model.bin',\n",
    "        'datasets/toxic_comments.csv',\n",
    "        'subsets/toxic_comments/bert.csv',\n",
    "        'subsets/toxic_comments/f1_choice.csv']\n",
    "\n",
    "#цикл функцией по ссылкам\n",
    "[download(f'http://sample.ru/{url}', f'./{url}') for url in urls]\n",
    "#ссылка SAMPLE.RU не настоящая - только как пример\n",
    "#поэтому здесь в выводе  ~ url fail\n",
    "\n",
    "#без цикла - откуда - куда\n",
    "download('http://sample.ru/subsets/toxic_comments/f1_selected.csv', './subsets/toxic_comments/f1_selected.csv')\n",
    "pass"
   ]
  }
 ],
 "metadata": {
  "kernelspec": {
   "display_name": "Python 3 (ipykernel)",
   "language": "python",
   "name": "python3"
  },
  "language_info": {
   "codemirror_mode": {
    "name": "ipython",
    "version": 3
   },
   "file_extension": ".py",
   "mimetype": "text/x-python",
   "name": "python",
   "nbconvert_exporter": "python",
   "pygments_lexer": "ipython3",
   "version": "3.9.15"
  }
 },
 "nbformat": 4,
 "nbformat_minor": 5
}
