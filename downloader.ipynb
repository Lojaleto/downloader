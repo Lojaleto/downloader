{
 "cells": [
  {
   "cell_type": "code",
   "execution_count": 1,
   "id": "f9eb5c06",
   "metadata": {},
   "outputs": [],
   "source": [
    "import requests\n",
    "import sys\n",
    "import os\n",
    "import re"
   ]
  },
  {
   "cell_type": "code",
   "execution_count": 2,
   "id": "a949d9f7",
   "metadata": {},
   "outputs": [],
   "source": [
    "def stdout(out):\n",
    "    sys.stdout.write('\\r[{}{}] {}'.format(out[0], '', ' ' * 1000))\n",
    "    sys.stdout.write('\\r[{}{}] {}'.format(*out))\n",
    "    sys.stdout.flush()\n",
    "    \n",
    "def download(url, file):\n",
    "    name = re.search('[0-9a-z+_-]+\\.[0-9a-z]+$', file).group(0)\n",
    "    \n",
    "    response = requests.get(url, stream=True)\n",
    "    total = response.headers.get('content-length')\n",
    "    \n",
    "    if total is None:\n",
    "        #response.content\n",
    "        stdout([' ', '', f'{name} ~ url fail\\n'])\n",
    "\n",
    "        return\n",
    "    if os.path.exists(file):\n",
    "        local = os.path.getsize(file)\n",
    "        \n",
    "        if int(total) == local:\n",
    "            stdout(['*', '', f'{name} - already\\n'])\n",
    "            \n",
    "            return\n",
    "        else:\n",
    "            stdout([' ', '', f'{name} ~ checksum fail'])\n",
    "            \n",
    "    with open(file, 'wb') as f:\n",
    "        downloaded = 0\n",
    "        total = int(total)\n",
    "        stdout([' ', '', ''])\n",
    "        load = '|'\n",
    "        \n",
    "        for data in response.iter_content(chunk_size=max(int(total/1000), 1024*1024)):\n",
    "            downloaded += len(data)\n",
    "            f.write(data)\n",
    "            done = int(13*downloaded/total)\n",
    "            \n",
    "            if load == '|': load = '/';\n",
    "            elif load == '/': load = '-';\n",
    "            elif load == '-': load = '\\\\';\n",
    "            elif load == '\\\\': load = '|';\n",
    "            \n",
    "            stdout(['#' * done + load, '.' * (12-done), f'{name} ~ {round(downloaded/(1024*1024))}Mb'])\n",
    "\n",
    "        stdout(['*', '', f'{name} - done\\n'])\n",
    "        return"
   ]
  },
  {
   "cell_type": "code",
   "execution_count": 3,
   "id": "65fe6d61",
   "metadata": {},
   "outputs": [
    {
     "name": "stdout",
     "output_type": "stream",
     "text": [
      "[ ] vocab.txt ~ url fail\n",
      "[ ] bert_config.json ~ url fail\n",
      "[ ] rubert_model.bin ~ url fail\n",
      "[ ] toxic_comments.csv ~ url fail\n",
      "[ ] bert.csv ~ url fail\n",
      "[ ] f1_choice.csv ~ url fail\n",
      "[ ] f1_selected.csv ~ url fail\n"
     ]
    }
   ],
   "source": [
    "#создание папок\n",
    "if os.path.exists('./datasets/ds_bert') == False: os.makedirs('./datasets/ds_bert', exist_ok=True);\n",
    "if os.path.exists('./subsets/toxic_comments') == False: os.makedirs('./subsets/toxic_comments', exist_ok=True);\n",
    "\n",
    "#часть ссылок для локального дублирования\n",
    "urls = ['datasets/ds_bert/vocab.txt',\n",
    "        'datasets/ds_bert/bert_config.json',\n",
    "        'datasets/ds_bert/rubert_model.bin',\n",
    "        'datasets/toxic_comments.csv',\n",
    "        'subsets/toxic_comments/bert.csv',\n",
    "        'subsets/toxic_comments/f1_choice.csv']\n",
    "\n",
    "#цикл функцией по ссылкам\n",
    "[download(f'http://sample.ru/{url}', f'./{url}') for url in urls]\n",
    "#ссылка SAMPLE.RU не настоящая - только как пример\n",
    "#поэтому здесь в выводе  ~ url fail\n",
    "\n",
    "#без цикла - откуда - куда\n",
    "download('http://sample.ru/subsets/toxic_comments/f1_selected.csv', './subsets/toxic_comments/f1_selected.csv')\n",
    "pass"
   ]
  }
 ],
 "metadata": {
  "kernelspec": {
   "display_name": "Python 3 (ipykernel)",
   "language": "python",
   "name": "python3"
  },
  "language_info": {
   "codemirror_mode": {
    "name": "ipython",
    "version": 3
   },
   "file_extension": ".py",
   "mimetype": "text/x-python",
   "name": "python",
   "nbconvert_exporter": "python",
   "pygments_lexer": "ipython3",
   "version": "3.9.13"
  }
 },
 "nbformat": 4,
 "nbformat_minor": 5
}
