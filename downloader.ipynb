{
 "cells": [
  {
   "cell_type": "code",
   "execution_count": null,
   "id": "f9eb5c06",
   "metadata": {},
   "outputs": [],
   "source": [
    "import requests\n",
    "import sys\n",
    "import os\n",
    "import re"
   ]
  },
  {
   "cell_type": "code",
   "execution_count": null,
   "id": "a949d9f7",
   "metadata": {},
   "outputs": [],
   "source": [
    "def download(url, filename):\n",
    "    name = re.search('[0-9a-z+_-]+\\.[0-9a-z]+$', filename).group(0)\n",
    "    \n",
    "    response = requests.get(url, stream=True)\n",
    "    total = response.headers.get('content-length')\n",
    "    \n",
    "    if os.path.exists(filename):\n",
    "        local = os.path.getsize(filename)\n",
    "        \n",
    "        if int(total) == local:\n",
    "            sys.stdout.write(f'[*] {name} - already\\n')\n",
    "            \n",
    "            return\n",
    "        else: sys.stdout.write('\\r[{}{}] {}'.format(' ', '', '{name} ~ checksum fail'))\n",
    "            \n",
    "    with open(filename, 'wb') as f:\n",
    "        \n",
    "        if total is None:\n",
    "            f.write(response.content)\n",
    "            sys.stdout.write('\\r[{}{}] {}'.format(' ', '', f'{name} ~ url fail\\n'))\n",
    "        \n",
    "            return\n",
    "        sys.stdout.flush()\n",
    "\n",
    "        downloaded = 0\n",
    "        total = int(total)\n",
    "        sys.stdout.write('\\r[{}{}] {}'.format('*', '', ' ' * 1000))\n",
    "        load = '|'\n",
    "        \n",
    "        for data in response.iter_content(chunk_size=max(int(total/1000), 1024*1024)):\n",
    "            downloaded += len(data)\n",
    "            f.write(data)\n",
    "            done = int(13*downloaded/total)\n",
    "            \n",
    "            if load == '|': load = '/';\n",
    "            elif load == '/': load = '-';\n",
    "            elif load == '-': load = '\\\\';\n",
    "            elif load == '\\\\': load = '|';\n",
    "            \n",
    "            sys.stdout.write('\\r[{}{}] {}'.format('#' * done + load, '.' * (12-done), f'{name} ~ {round(downloaded/1048576)}Mb'))\n",
    "            sys.stdout.flush()\n",
    "        \n",
    "        sys.stdout.write('\\r[{}{}] {}'.format('*', '', ' ' * 1000))\n",
    "        sys.stdout.write('\\r[{}{}] {}'.format('*', '', f'{name} - done\\n'))\n"
   ]
  },
  {
   "cell_type": "code",
   "execution_count": null,
   "id": "65fe6d61",
   "metadata": {},
   "outputs": [],
   "source": [
    "#созданик папок\n",
    "if os.path.exists('./datasets/ds_bert') == False: os.makedirs('./datasets/ds_bert', exist_ok=True);\n",
    "if os.path.exists('./subsets/toxic_comments') == False: os.makedirs('./subsets/toxic_comments', exist_ok=True);\n",
    "\n",
    "#часть ссылок для локального дублирования\n",
    "urls = ['datasets/ds_bert/vocab.txt',\n",
    "        'datasets/ds_bert/bert_config.json',\n",
    "        'datasets/ds_bert/rubert_model.bin',\n",
    "        'datasets/toxic_comments.csv',\n",
    "        'subsets/toxic_comments/bert.csv',\n",
    "        'subsets/toxic_comments/f1_choice.csv']\n",
    "\n",
    "#цикл функцией по ссылкам\n",
    "[download(f'http://sample.ru/{url}', f'./{url}') for url in urls]\n",
    "\n",
    "#без цикла - откуда - куда\n",
    "download('http://sample.ru/subsets/toxic_comments/f1_selected.csv', './subsets/toxic_comments/f1_selected.csv')\n",
    "pass"
   ]
  }
 ],
 "metadata": {
  "kernelspec": {
   "display_name": "Python 3 (ipykernel)",
   "language": "python",
   "name": "python3"
  },
  "language_info": {
   "codemirror_mode": {
    "name": "ipython",
    "version": 3
   },
   "file_extension": ".py",
   "mimetype": "text/x-python",
   "name": "python",
   "nbconvert_exporter": "python",
   "pygments_lexer": "ipython3",
   "version": "3.9.13"
  }
 },
 "nbformat": 4,
 "nbformat_minor": 5
}
